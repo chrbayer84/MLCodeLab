{
 "cells": [
  {
   "cell_type": "markdown",
   "metadata": {},
   "source": [
    "# Introduction to Deep Learning Packages\n",
    "In this tutorial, we'll take you through developing models to classify images in PyTorch from start to finish. We'll go through preprocessing, building neural networks, and experimentation.\n",
    "\n",
    "Let's get started!"
   ]
  },
  {
   "cell_type": "code",
   "execution_count": 2,
   "metadata": {},
   "outputs": [],
   "source": [
    "import argparse\n",
    "import torch\n",
    "import torch.nn as nn\n",
    "import torch.nn.functional as F\n",
    "import torch.optim as optim\n",
    "from torchvision import datasets, transforms\n",
    "from tqdm import tqdm"
   ]
  },
  {
   "cell_type": "markdown",
   "metadata": {},
   "source": [
    "## What is PyTorch\n",
    "It's a python based deep learning library. It's very popular amongst researchers because of it's speed and flexibility. \n",
    "\n",
    "At the base of pytorch is the idea of a `Tensor`.\n",
    "A `Tensor` is just an `n-dimensional` array, like a numpy `ndarray`.\n",
    "\n",
    "For example,\n",
    "Let's make a random `3x3` tensor.\n",
    "We can inspect tensors by printing them, and get their size with `.size()` "
   ]
  },
  {
   "cell_type": "code",
   "execution_count": 3,
   "metadata": {},
   "outputs": [
    {
     "name": "stdout",
     "output_type": "stream",
     "text": [
      "tensor([[ 0.6128,  0.0169,  0.8098],\n",
      "        [ 0.5478,  0.4093,  0.6310],\n",
      "        [ 0.0088,  0.9187,  0.2812]])\n",
      "torch.Size([3, 3])\n"
     ]
    }
   ],
   "source": [
    "a = torch.rand(3,3)\n",
    "print(a)\n",
    "print(a.size())"
   ]
  },
  {
   "cell_type": "markdown",
   "metadata": {},
   "source": [
    "We can also take an array, and convert it to a tensor.\n"
   ]
  },
  {
   "cell_type": "code",
   "execution_count": 29,
   "metadata": {},
   "outputs": [
    {
     "name": "stdout",
     "output_type": "stream",
     "text": [
      "tensor([[ 1.,  2.,  3.],\n",
      "        [ 4.,  5.,  6.]])\n",
      "torch.Size([2, 3])\n"
     ]
    }
   ],
   "source": [
    "b = torch.Tensor([[1,2,3],[4,5,6]])\n",
    "print(b)\n",
    "print(b.size())"
   ]
  },
  {
   "cell_type": "markdown",
   "metadata": {},
   "source": [
    "### Operations on Tensors\n",
    "Any operation between tensors produces new tensors.\n",
    "You can use regular python syntax to add, multiply them. PyTorch also nice functions for matrix multipication, and reshaping tensors.\n"
   ]
  },
  {
   "cell_type": "code",
   "execution_count": 30,
   "metadata": {},
   "outputs": [
    {
     "name": "stdout",
     "output_type": "stream",
     "text": [
      "tensor([[ 4.7014,  4.6883,  4.3485],\n",
      "        [ 4.2628,  4.3307,  4.7803],\n",
      "        [ 4.1138,  4.5597,  4.2711]])\n",
      "tensor([[ 9.4028,  9.3767,  8.6970],\n",
      "        [ 8.5257,  8.6614,  9.5607],\n",
      "        [ 8.2276,  9.1195,  8.5421]])\n",
      "tensor([[-4.7014, -4.6883, -4.3485],\n",
      "        [-4.2628, -4.3307, -4.7803],\n",
      "        [-4.1138, -4.5597, -4.2711]])\n",
      "torch.Size([3, 3]) torch.Size([2, 3])\n",
      "torch.Size([2, 3])\n"
     ]
    }
   ],
   "source": [
    "a = a + 4\n",
    "print(a)\n",
    "d = a * 2\n",
    "print(d)\n",
    "e = a - d\n",
    "print(e)\n",
    "\n",
    "print(a.size(), b.size())\n",
    "# Wont work because shapes number of columns in a \n",
    "# doesn't match number of rows in b\n",
    "'c = torch.matmul(a, b)'\n",
    "# This will work\n",
    "c = torch.matmul(b, a)\n",
    "print(c.size())\n"
   ]
  },
  {
   "cell_type": "markdown",
   "metadata": {},
   "source": [
    "If you're running into a bug, it's often helpful to step through and check your dimensions.\n",
    "\n",
    "### The magic: Autograd\n",
    "The power behind PyTorch comes from its automatic differentiation engine, Autograd. To turn it on, construct your tensors with `requires_grad = True`.\n",
    "\n",
    "Every computation you make, i.e `c=a+b` will create a computation graph with node `c` being linked to `a` and `b` via a `+` operator. \n",
    "\n",
    "<img src=\"abc.png\">\n",
    "\n",
    "If you call `.backward()` on your final node, autograd will work out all the gradients for you and store the values in `a.grad` and `b.grad`.\n",
    "\n",
    "Let's look at an example.\n",
    "\n",
    "Consider the function\n",
    "`y = a*(x^2) + b`, where `a = b = 1`. This is a simple parabola. \n",
    "<img src=\"parabola.png\">\n",
    "\n",
    "The compute graph for this would be:\n",
    "<img src=\"parab_graph.png\">\n",
    "\n",
    "From basic calculas, we know that the derivative of `dy/dx` is\n",
    "`dy/dx = 2a x`. So the derivative at `x = 1` is `2`. \n",
    "This wasn't very hard, but let's see how autograd can do this automatically."
   ]
  },
  {
   "cell_type": "code",
   "execution_count": 31,
   "metadata": {},
   "outputs": [
    {
     "name": "stdout",
     "output_type": "stream",
     "text": [
      "tensor([ 2.])\n",
      "x.grad=tensor([ 2.])\n"
     ]
    }
   ],
   "source": [
    "a = torch.ones(1, requires_grad=False)\n",
    "b = torch.ones(1, requires_grad=False)\n",
    "x = torch.ones(1, requires_grad=True)\n",
    "y = a*(x*x)  + b\n",
    "print(y)\n",
    "y.backward()\n",
    "print(\"x.grad={}\".format(x.grad))\n"
   ]
  },
  {
   "cell_type": "markdown",
   "metadata": {},
   "source": [
    "### Why autograd is exciting\n",
    "Now, this may have seemed trivial and contrived, but this flexible automatic differentiation process really shines when our computation graph is large and complex, i.e when it's a neural network.\n",
    "\n",
    "If we place our whole model into our computation graph, and the loss calculation, the a call to `backward`, will compute all the gradients, and it becomes very easy to train neural networks. \n",
    "\n",
    "\n"
   ]
  },
  {
   "cell_type": "markdown",
   "metadata": {},
   "source": [
    "# The Task: MNIST, Digit Classification\n",
    "<img src=\"mnist.png\">\n",
    "\n",
    "In this lab, we'll build a neural network to classify hand-written digits.\n",
    "\n",
    "\n",
    "\n",
    "## Step 1: Loading Data and Preprocessing\n",
    "Let's start by loading the data.\n",
    "We're going to normalize our images to have 0 mean, and unit variance. We'll do this using some [torchvision](https://pytorch.org/docs/stable/torchvision/index.html) transforms. This generally helps stablize learning, and is common practice. "
   ]
  },
  {
   "cell_type": "code",
   "execution_count": 4,
   "metadata": {},
   "outputs": [],
   "source": [
    "# Img mean value of .13, and stdv of .31 were computed across entire train set\n",
    "# in prior work\n",
    "normalize_image = transforms.Compose([\n",
    "                           transforms.ToTensor(),\n",
    "                           transforms.Normalize((0.1307,), (0.3081,))\n",
    "                ])\n",
    "\n",
    "# Dataset is loaded fro torchvision\n",
    "all_train = datasets.MNIST('data', train=True, download=True,\n",
    "                        transform=normalize_image)\n",
    "\n",
    "num_train = int(len(all_train)*.8)\n",
    "train = [all_train[i] for i in range(num_train)]\n",
    "dev = [all_train[i] for i in range(num_train,len(all_train))]\n",
    "test = datasets.MNIST('data', train=False, download=True, \n",
    "                      transform=normalize_image)\n",
    "                           \n"
   ]
  },
  {
   "cell_type": "code",
   "execution_count": 33,
   "metadata": {},
   "outputs": [
    {
     "data": {
      "text/plain": [
       "torch.Size([1, 28, 28])"
      ]
     },
     "execution_count": 33,
     "metadata": {},
     "output_type": "execute_result"
    }
   ],
   "source": [
    "train[0][0].size()"
   ]
  },
  {
   "cell_type": "markdown",
   "metadata": {},
   "source": [
    "## Step 2: Building a model\n",
    "\n",
    "All pytorch models should be implemented as instances of `nn.Module`. \n",
    "\n",
    "To build a model you need to:\n",
    "a) define what parameters it'll need in it's `__init__` function\n",
    "b) define the model's computation, using those parameters, in a forward function.\n",
    "\n",
    "\n",
    "To keep things simple, lets define a simple linear classifer, like logistic regression. We'll experiment with more complex models soon."
   ]
  },
  {
   "cell_type": "code",
   "execution_count": 5,
   "metadata": {},
   "outputs": [],
   "source": [
    "class Model(nn.Module):\n",
    "    def __init__(self):\n",
    "        super(Model, self).__init__()\n",
    "        # Learn weights for each pixel and perform linear regression\n",
    "        self.fc = nn.Linear(28*28, 10)\n",
    "\n",
    "    def forward(self, x):\n",
    "        batch_size, num_channels, height, width = x.size()\n",
    "        # Flatten image\n",
    "        x = x.view(batch_size, -1)\n",
    "        # Put it through linear classifier\n",
    "        return self.fc(x)\n"
   ]
  },
  {
   "cell_type": "markdown",
   "metadata": {},
   "source": [
    "## Step 3. Defining our training procedure\n",
    "\n",
    "To train our model, let's introduce a couple new PyTorch ideas.\n",
    "\n",
    "A [DataLoader](https://pytorch.org/docs/stable/data.html#torch.utils.data.DataLoader) is an iterator that goes over our entire dataset and selects batches. \n",
    "We'll be using this to iterate through our train/dev/test sets.\n",
    "\n",
    "Let's intialize these now. \n",
    "\n",
    "An [Optimizer](https://pytorch.org/docs/stable/optim.html) defines an update rule. In class, we've discussed vanilla SGD, which is one method to compute the next weight, given the current weight and gradient. There are plently of other optimizers you can try from the pytorch library. \n"
   ]
  },
  {
   "cell_type": "code",
   "execution_count": 9,
   "metadata": {},
   "outputs": [],
   "source": [
    "# Training settings\n",
    "batch_size = 64\n",
    "epochs = 10\n",
    "lr = .01\n",
    "momentum = 0.5\n",
    "\n",
    "\n",
    "train_loader = torch.utils.data.DataLoader(train, batch_size=batch_size, shuffle=True)\n",
    "dev_loader = torch.utils.data.DataLoader(dev, batch_size=batch_size, shuffle=True)\n",
    "test_loader = torch.utils.data.DataLoader(test, batch_size=batch_size, shuffle=True)\n",
    "\n",
    "\n",
    "model = Model()\n",
    "optimizer = optim.SGD(model.parameters(), lr=lr, momentum=momentum)\n"
   ]
  },
  {
   "cell_type": "markdown",
   "metadata": {},
   "source": [
    "To train our model:\n",
    "\n",
    "1) we'll randomly sample batches from our train loader\n",
    "\n",
    "2) compute our loss (using standard `cross_entropy`)\n",
    "\n",
    "3) compute our gradients (by calling `backward()` on our loss)\n",
    "\n",
    "4) update our neural network with an `optimizer.step()`, and go back to 1)\n",
    "\n",
    "I've added some extra stuff here to log our accuracy and avg loss for the epoch.\n"
   ]
  },
  {
   "cell_type": "code",
   "execution_count": 7,
   "metadata": {},
   "outputs": [],
   "source": [
    "def train_epoch( model, train_loader, optimizer, epoch):\n",
    "    model.train() # Set the nn.Module to train mode. \n",
    "    total_loss = 0\n",
    "    correct = 0\n",
    "    num_samples = len(train_loader.dataset)\n",
    "    for batch_idx, (x, target) in enumerate(train_loader): #1) get batch\n",
    "        # Reset gradient data to 0\n",
    "        optimizer.zero_grad()\n",
    "        # Get prediction for batch\n",
    "        output = model(x)\n",
    "        # 2) Compute loss\n",
    "        loss = F.cross_entropy(output, target)\n",
    "        #3) Do backprop\n",
    "        loss.backward()\n",
    "        #4) Update model\n",
    "        optimizer.step()\n",
    "        \n",
    "        ## Do book-keeping to track accuracy and avg loss\n",
    "        pred = output.max(1, keepdim=True)[1] # get the index of the max log-probability\n",
    "        correct += pred.eq(target.view_as(pred)).sum().item()\n",
    "        total_loss += loss.detach() # Don't keep computation graph \n",
    "\n",
    "    print('Train Epoch: {} \\tLoss: {:.4f}, Accuracy: {}/{} ({:.0f}%)'.format(\n",
    "            epoch, total_loss / num_samples, \n",
    "            correct, \n",
    "            num_samples,\n",
    "            100. * correct / num_samples))\n"
   ]
  },
  {
   "cell_type": "markdown",
   "metadata": {},
   "source": [
    "## Step 3.5 Define our evaluation loop\n",
    "Similar to above, we'll also loop through our dev or test set, and compute our loss and accuracy. \n",
    "This lets us see how well our model is generalizing. "
   ]
  },
  {
   "cell_type": "code",
   "execution_count": 10,
   "metadata": {},
   "outputs": [],
   "source": [
    "def eval_epoch(model, test_loader, name):\n",
    "    model.eval()\n",
    "    test_loss = 0\n",
    "    correct = 0\n",
    "    for data, target in test_loader:\n",
    "        output = model(data)\n",
    "        test_loss += F.cross_entropy(output, target).item() # sum up batch loss\n",
    "        pred = output.max(1, keepdim=True)[1] # get the index of the max log-probability\n",
    "        correct += pred.eq(target.view_as(pred)).sum().item()\n",
    "\n",
    "    test_loss /= len(test_loader.dataset)\n",
    "    print('\\n{} set: Average loss: {:.4f}, Accuracy: {}/{} ({:.0f}%)\\n'.format(\n",
    "        name,\n",
    "        test_loss, \n",
    "        correct, \n",
    "        len(test_loader.dataset),\n",
    "        100. * correct / len(test_loader.dataset)))\n"
   ]
  },
  {
   "cell_type": "markdown",
   "metadata": {},
   "source": [
    "## Step 4: Training the model"
   ]
  },
  {
   "cell_type": "code",
   "execution_count": 11,
   "metadata": {},
   "outputs": [
    {
     "name": "stdout",
     "output_type": "stream",
     "text": [
      "Train Epoch: 1 \tLoss: 0.0067, Accuracy: 42201/48000 (88%)\n",
      "\n",
      "Dev set: Average loss: 0.0050, Accuracy: 10929/12000 (91%)\n",
      "\n",
      "---\n",
      "Train Epoch: 2 \tLoss: 0.0050, Accuracy: 43642/48000 (91%)\n",
      "\n",
      "Dev set: Average loss: 0.0046, Accuracy: 10998/12000 (92%)\n",
      "\n",
      "---\n",
      "Train Epoch: 3 \tLoss: 0.0047, Accuracy: 43850/48000 (91%)\n",
      "\n",
      "Dev set: Average loss: 0.0045, Accuracy: 11032/12000 (92%)\n",
      "\n",
      "---\n",
      "Train Epoch: 4 \tLoss: 0.0046, Accuracy: 44018/48000 (92%)\n",
      "\n",
      "Dev set: Average loss: 0.0045, Accuracy: 11038/12000 (92%)\n",
      "\n",
      "---\n",
      "Train Epoch: 5 \tLoss: 0.0045, Accuracy: 44086/48000 (92%)\n",
      "\n",
      "Dev set: Average loss: 0.0044, Accuracy: 11068/12000 (92%)\n",
      "\n",
      "---\n",
      "Train Epoch: 6 \tLoss: 0.0044, Accuracy: 44204/48000 (92%)\n",
      "\n",
      "Dev set: Average loss: 0.0044, Accuracy: 11070/12000 (92%)\n",
      "\n",
      "---\n",
      "Train Epoch: 7 \tLoss: 0.0044, Accuracy: 44235/48000 (92%)\n",
      "\n",
      "Dev set: Average loss: 0.0043, Accuracy: 11067/12000 (92%)\n",
      "\n",
      "---\n",
      "Train Epoch: 8 \tLoss: 0.0043, Accuracy: 44271/48000 (92%)\n",
      "\n",
      "Dev set: Average loss: 0.0043, Accuracy: 11086/12000 (92%)\n",
      "\n",
      "---\n",
      "Train Epoch: 9 \tLoss: 0.0043, Accuracy: 44327/48000 (92%)\n",
      "\n",
      "Dev set: Average loss: 0.0043, Accuracy: 11089/12000 (92%)\n",
      "\n",
      "---\n",
      "Train Epoch: 10 \tLoss: 0.0042, Accuracy: 44377/48000 (92%)\n",
      "\n",
      "Dev set: Average loss: 0.0043, Accuracy: 11090/12000 (92%)\n",
      "\n",
      "---\n"
     ]
    }
   ],
   "source": [
    "\n",
    "for epoch in range(1, epochs + 1):\n",
    "    train_epoch(model, train_loader, optimizer, epoch)\n",
    "    eval_epoch(model,  dev_loader, \"Dev\")\n",
    "    print(\"---\")"
   ]
  },
  {
   "cell_type": "markdown",
   "metadata": {},
   "source": [
    "# Step 5. Experiment with MLP\n",
    "This model gets a dev accuracy of 93%, which isn't too bad. However, the power of neural networks comes from composing layers with nonlinearities.\n",
    "\n",
    "Let's try a more complex model."
   ]
  },
  {
   "cell_type": "code",
   "execution_count": 39,
   "metadata": {},
   "outputs": [
    {
     "name": "stdout",
     "output_type": "stream",
     "text": [
      "Train Epoch: 1 \tLoss: 0.0098, Accuracy: 40374/48000 (84%)\n",
      "\n",
      "Dev set: Average loss: 0.0046, Accuracy: 10965/12000 (91%)\n",
      "\n",
      "---\n",
      "Train Epoch: 2 \tLoss: 0.0041, Accuracy: 44367/48000 (92%)\n",
      "\n",
      "Dev set: Average loss: 0.0033, Accuracy: 11255/12000 (94%)\n",
      "\n",
      "---\n",
      "Train Epoch: 3 \tLoss: 0.0031, Accuracy: 45180/48000 (94%)\n",
      "\n",
      "Dev set: Average loss: 0.0029, Accuracy: 11348/12000 (95%)\n",
      "\n",
      "---\n",
      "Train Epoch: 4 \tLoss: 0.0025, Accuracy: 45720/48000 (95%)\n",
      "\n",
      "Dev set: Average loss: 0.0024, Accuracy: 11472/12000 (96%)\n",
      "\n",
      "---\n",
      "Train Epoch: 5 \tLoss: 0.0021, Accuracy: 46149/48000 (96%)\n",
      "\n",
      "Dev set: Average loss: 0.0021, Accuracy: 11546/12000 (96%)\n",
      "\n",
      "---\n",
      "Train Epoch: 6 \tLoss: 0.0018, Accuracy: 46426/48000 (97%)\n",
      "\n",
      "Dev set: Average loss: 0.0019, Accuracy: 11591/12000 (97%)\n",
      "\n",
      "---\n",
      "Train Epoch: 7 \tLoss: 0.0015, Accuracy: 46675/48000 (97%)\n",
      "\n",
      "Dev set: Average loss: 0.0017, Accuracy: 11633/12000 (97%)\n",
      "\n",
      "---\n",
      "Train Epoch: 8 \tLoss: 0.0013, Accuracy: 46851/48000 (98%)\n",
      "\n",
      "Dev set: Average loss: 0.0017, Accuracy: 11639/12000 (97%)\n",
      "\n",
      "---\n",
      "Train Epoch: 9 \tLoss: 0.0012, Accuracy: 46971/48000 (98%)\n",
      "\n",
      "Dev set: Average loss: 0.0016, Accuracy: 11638/12000 (97%)\n",
      "\n",
      "---\n",
      "Train Epoch: 10 \tLoss: 0.0010, Accuracy: 47094/48000 (98%)\n",
      "\n",
      "Dev set: Average loss: 0.0015, Accuracy: 11662/12000 (97%)\n",
      "\n",
      "---\n"
     ]
    }
   ],
   "source": [
    "class Model(nn.Module):\n",
    "    def __init__(self):\n",
    "        super(Model, self).__init__()\n",
    "        self.fc1 = nn.Linear(28*28, 200)\n",
    "        self.fc2 = nn.Linear(200, 200)\n",
    "        self.fc3 = nn.Linear(200, 10)\n",
    "        \n",
    "\n",
    "    def forward(self, x):\n",
    "        batch_size, num_channels, height, width = x.size()\n",
    "        x = x.view(batch_size, -1)\n",
    "        hidden = F.relu(self.fc1(x))\n",
    "        hidden = F.relu(self.fc2(hidden))\n",
    "        logit = self.fc3(hidden)\n",
    "        return logit\n",
    "    \n",
    "model = Model()\n",
    "optimizer = optim.SGD(model.parameters(), lr=lr, momentum=momentum)\n",
    "\n",
    "for epoch in range(1, epochs + 1):\n",
    "    train_epoch(model, train_loader, optimizer, epoch)\n",
    "    eval_epoch(model,  dev_loader, \"Dev\")\n",
    "    print(\"---\")"
   ]
  },
  {
   "cell_type": "code",
   "execution_count": null,
   "metadata": {},
   "outputs": [],
   "source": []
  },
  {
   "cell_type": "markdown",
   "metadata": {},
   "source": [
    "## Step 6. Experiment with CNN\n",
    "A 3 layer MLP gets a dev accuracy of 97%, a strong imporvement over the simple linear model.\n",
    "Now let's experiment with a covolutional neural network.\n"
   ]
  },
  {
   "cell_type": "code",
   "execution_count": null,
   "metadata": {},
   "outputs": [
    {
     "name": "stdout",
     "output_type": "stream",
     "text": [
      "Train Epoch: 1 \tLoss: 0.0059, Accuracy: 42905/48000 (89%)\n",
      "\n",
      "Dev set: Average loss: 0.0024, Accuracy: 11406/12000 (95%)\n",
      "\n",
      "---\n",
      "Train Epoch: 2 \tLoss: 0.0016, Accuracy: 46544/48000 (97%)\n",
      "\n",
      "Dev set: Average loss: 0.0015, Accuracy: 11649/12000 (97%)\n",
      "\n",
      "---\n",
      "Train Epoch: 3 \tLoss: 0.0011, Accuracy: 46973/48000 (98%)\n",
      "\n",
      "Dev set: Average loss: 0.0010, Accuracy: 11772/12000 (98%)\n",
      "\n",
      "---\n",
      "Train Epoch: 4 \tLoss: 0.0009, Accuracy: 47178/48000 (98%)\n",
      "\n",
      "Dev set: Average loss: 0.0011, Accuracy: 11765/12000 (98%)\n",
      "\n",
      "---\n"
     ]
    }
   ],
   "source": [
    "class Model(nn.Module):\n",
    "    def __init__(self):\n",
    "        super(Model, self).__init__()\n",
    "        self.hidden_dim = 32\n",
    "        self.conv1 = nn.Conv2d(1, self.hidden_dim // 2, kernel_size=10)\n",
    "        self.conv2 = nn.Conv2d(self.hidden_dim // 2, self.hidden_dim, kernel_size=10)\n",
    "        self.fc = nn.Linear(self.hidden_dim, 10)\n",
    "        \n",
    "    def forward(self, x):\n",
    "        batch_size, num_channels, height, width = x.size()\n",
    "        \n",
    "        hidden = F.relu(self.conv1(x))\n",
    "        hidden = F.relu(self.conv2(hidden))\n",
    "        hidden = hidden.view((batch_size, self.hidden_dim, -1))\n",
    "        hidden,_ = torch.max(hidden, dim=-1)\n",
    "        logit = self.fc(hidden)\n",
    "        return logit\n",
    "    \n",
    "model = Model()\n",
    "optimizer = optim.SGD(model.parameters(), lr=lr, momentum=momentum)\n",
    "\n",
    "for epoch in range(1, epochs + 1):\n",
    "    train_epoch(model, train_loader, optimizer, epoch)\n",
    "    eval_epoch(model,  dev_loader, \"Dev\")\n",
    "    print(\"---\")"
   ]
  },
  {
   "cell_type": "markdown",
   "metadata": {},
   "source": [
    "## Step 7. Explore further.\n",
    "You can try different model architectures, different optimizers, learning rates and regularization strategies. Neural networks are incredibly flexibile, and so the space to do explore is enourmous.  Once you're done exploring, take your best model (i.e achieves best results on dev set) and run it on test!"
   ]
  },
  {
   "cell_type": "code",
   "execution_count": 15,
   "metadata": {},
   "outputs": [
    {
     "name": "stdout",
     "output_type": "stream",
     "text": [
      "\n",
      "Test set: Average loss: 0.0007, Accuracy: 9865/10000 (99%)\n",
      "\n"
     ]
    }
   ],
   "source": [
    "eval_epoch(model,  test_loader, \"Test\")"
   ]
  },
  {
   "cell_type": "markdown",
   "metadata": {},
   "source": [
    "## Step 8. Now try it on your own on CIFAR\n"
   ]
  }
 ],
 "metadata": {
  "kernelspec": {
   "display_name": "Python 3",
   "language": "python",
   "name": "python3"
  },
  "language_info": {
   "codemirror_mode": {
    "name": "ipython",
    "version": 3
   },
   "file_extension": ".py",
   "mimetype": "text/x-python",
   "name": "python",
   "nbconvert_exporter": "python",
   "pygments_lexer": "ipython3",
   "version": "3.6.4"
  }
 },
 "nbformat": 4,
 "nbformat_minor": 2
}
