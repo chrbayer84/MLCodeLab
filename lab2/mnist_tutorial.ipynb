{
 "cells": [
  {
   "cell_type": "markdown",
   "metadata": {},
   "source": [
    "# Introduction to Deep Learning Packages\n",
    "In this tutorial, we'll take you through developing models to classify images in PyTorch from start to finish. We'll go through preprocessing, building neural networks, and experimentation.\n",
    "\n",
    "Let's get started!"
   ]
  },
  {
   "cell_type": "code",
   "execution_count": 1,
   "metadata": {},
   "outputs": [],
   "source": [
    "import argparse\n",
    "import torch\n",
    "import torch.nn as nn\n",
    "import torch.nn.functional as F\n",
    "import torch.optim as optim\n",
    "from torchvision import datasets, transforms\n",
    "from tqdm import tqdm"
   ]
  },
  {
   "cell_type": "markdown",
   "metadata": {},
   "source": [
    "## What is PyTorch\n",
    "It's a python based deep learning library. It's very popular amongst researchers because of it's speed and flexibility. \n",
    "\n",
    "At the base of pytorch is the idea of a `Tensor`.\n",
    "A `Tensor` is just an `n-dimensional` array, like a numpy `ndarray`.\n",
    "\n",
    "For example,\n",
    "Let's make a random `3x3` tensor.\n",
    "We can inspect tensors by printing them, and get their size with `.size()` "
   ]
  },
  {
   "cell_type": "code",
   "execution_count": 2,
   "metadata": {},
   "outputs": [
    {
     "name": "stdout",
     "output_type": "stream",
     "text": [
      "tensor([[ 0.9705,  0.3110,  0.8510],\n",
      "        [ 0.8947,  0.1625,  0.9597],\n",
      "        [ 0.7825,  0.8919,  0.2780]])\n",
      "torch.Size([3, 3])\n"
     ]
    }
   ],
   "source": [
    "a = torch.rand(3,3)\n",
    "print(a)\n",
    "print(a.size())"
   ]
  },
  {
   "cell_type": "markdown",
   "metadata": {},
   "source": [
    "We can also take an array, and convert it to a tensor.\n"
   ]
  },
  {
   "cell_type": "code",
   "execution_count": 3,
   "metadata": {},
   "outputs": [
    {
     "name": "stdout",
     "output_type": "stream",
     "text": [
      "tensor([[ 1.,  2.,  3.],\n",
      "        [ 4.,  5.,  6.]])\n",
      "torch.Size([2, 3])\n"
     ]
    }
   ],
   "source": [
    "b = torch.Tensor([[1,2,3],[4,5,6]])\n",
    "print(b)\n",
    "print(b.size())"
   ]
  },
  {
   "cell_type": "markdown",
   "metadata": {},
   "source": [
    "### Operations on Tensors\n",
    "Any operation between tensors produces new tensors.\n",
    "You can use regular python syntax to add, multiply them. PyTorch also nice functions for matrix multipication, and reshaping tensors.\n"
   ]
  },
  {
   "cell_type": "code",
   "execution_count": 4,
   "metadata": {},
   "outputs": [
    {
     "name": "stdout",
     "output_type": "stream",
     "text": [
      "tensor([[ 4.9705,  4.3110,  4.8510],\n",
      "        [ 4.8947,  4.1625,  4.9597],\n",
      "        [ 4.7825,  4.8919,  4.2780]])\n",
      "tensor([[ 9.9410,  8.6220,  9.7021],\n",
      "        [ 9.7894,  8.3250,  9.9193],\n",
      "        [ 9.5651,  9.7838,  8.5559]])\n",
      "tensor([[-4.9705, -4.3110, -4.8510],\n",
      "        [-4.8947, -4.1625, -4.9597],\n",
      "        [-4.7825, -4.8919, -4.2780]])\n",
      "torch.Size([3, 3]) torch.Size([2, 3])\n",
      "torch.Size([2, 3])\n"
     ]
    }
   ],
   "source": [
    "a = a + 4\n",
    "print(a)\n",
    "d = a * 2\n",
    "print(d)\n",
    "e = a - d\n",
    "print(e)\n",
    "\n",
    "print(a.size(), b.size())\n",
    "# Wont work because shapes number of columns in a \n",
    "# doesn't match number of rows in b\n",
    "'c = torch.matmul(a, b)'\n",
    "# This will work\n",
    "c = torch.matmul(b, a)\n",
    "print(c.size())\n"
   ]
  },
  {
   "cell_type": "markdown",
   "metadata": {},
   "source": [
    "If you're running into a bug, it's often helpful to step through and check your dimensions.\n",
    "\n",
    "### The magic: Autograd\n",
    "The power behind PyTorch comes from its automatic differentiation engine, Autograd. To turn it on, construct your tensors with `requires_grad = True`.\n",
    "\n",
    "Every computation you make, i.e `c=a+b` will create a computation graph with node `c` being linked to `a` and `b` via a `+` operator. \n",
    "\n",
    "<img src=\"compute_graph.png\">\n",
    "\n",
    "If you call `.backward()` on your final node, autograd will work out all the gradients for you and store the values in `a.grad` and `b.grad`.\n",
    "\n",
    "Let's look at an example.\n",
    "\n",
    "Consider the function\n",
    "`y = a*(x^2) + b`, where `a = b = 1`. This is a simple parabola. \n",
    "<img src=\"parabola.png\">\n",
    "\n",
    "The compute graph for this would be:\n",
    "<img src=\"compute_graph_parabola.png\">\n",
    "\n",
    "From basic calculas, we know that the derivative of `dy/dx` is\n",
    "`dy/dx = 2a x`. So the derivative at `x = 1` is `2`. \n",
    "This wasn't very hard, but let's see how autograd can do this automatically."
   ]
  },
  {
   "cell_type": "code",
   "execution_count": 5,
   "metadata": {},
   "outputs": [
    {
     "name": "stdout",
     "output_type": "stream",
     "text": [
      "tensor([ 2.])\n",
      "x.grad=tensor([ 2.])\n"
     ]
    }
   ],
   "source": [
    "a = torch.ones(1, requires_grad=False)\n",
    "b = torch.ones(1, requires_grad=False)\n",
    "x = torch.ones(1, requires_grad=True)\n",
    "y = a*(x*x)  + b\n",
    "print(y)\n",
    "y.backward()\n",
    "print(\"x.grad={}\".format(x.grad))\n"
   ]
  },
  {
   "cell_type": "markdown",
   "metadata": {},
   "source": [
    "### Why autograd is exciting\n",
    "Now, this may have seemed trivial and contrived, but this flexible automatic differentiation process really shines when our computation graph is large and complex, i.e when it's a neural network.\n",
    "\n",
    "If we place our whole model into our computation graph, and the loss calculation, the a call to `backward`, will compute all the gradients, and it becomes very easy to train neural networks. \n",
    "\n",
    "\n"
   ]
  },
  {
   "cell_type": "markdown",
   "metadata": {},
   "source": [
    "# The Task: MNIST, Digit Classification\n",
    "<img src=\"mnist.png\">\n",
    "\n",
    "In this lab, we'll build a neural network to classify hand-written digits.\n",
    "\n",
    "\n",
    "\n",
    "## Step 1: Loading Data and Preprocessing\n",
    "Let's start by loading the data.\n",
    "We're going to normalize our images to have 0 mean, and unit variance. We'll do this using some torchvision transforms. This generally helps stablize learning, and is common practice. "
   ]
  },
  {
   "cell_type": "code",
   "execution_count": 6,
   "metadata": {},
   "outputs": [
    {
     "name": "stdout",
     "output_type": "stream",
     "text": [
      "Downloading http://yann.lecun.com/exdb/mnist/train-images-idx3-ubyte.gz\n",
      "Downloading http://yann.lecun.com/exdb/mnist/train-labels-idx1-ubyte.gz\n",
      "Downloading http://yann.lecun.com/exdb/mnist/t10k-images-idx3-ubyte.gz\n",
      "Downloading http://yann.lecun.com/exdb/mnist/t10k-labels-idx1-ubyte.gz\n",
      "Processing...\n",
      "Done!\n"
     ]
    }
   ],
   "source": [
    "normalize_image = transforms.Compose([\n",
    "                           transforms.ToTensor(),\n",
    "                           transforms.Normalize((0.1307,), (0.3081,))\n",
    "                ])\n",
    "\n",
    "all_train = datasets.MNIST('data', train=True, download=True,\n",
    "                        transform=normalize_image)\n",
    "num_train = int(len(all_train)*.8)\n",
    "train = [all_train[i] for i in range(num_train)]\n",
    "dev = [all_train[i] for i in range(num_train,len(all_train))]\n",
    "test = datasets.MNIST('data', train=False, download=True, \n",
    "                      transform=normalize_image)\n",
    "                           \n"
   ]
  },
  {
   "cell_type": "code",
   "execution_count": 7,
   "metadata": {},
   "outputs": [
    {
     "data": {
      "text/plain": [
       "torch.Size([1, 28, 28])"
      ]
     },
     "execution_count": 7,
     "metadata": {},
     "output_type": "execute_result"
    }
   ],
   "source": [
    "train[0][0].size()"
   ]
  },
  {
   "cell_type": "markdown",
   "metadata": {},
   "source": [
    "## Step 2: Building a model\n",
    "\n",
    "All pytorch models should be implemented as instances of `nn.Module`. \n",
    "\n",
    "To build a model you need to:\n",
    "a) define what parameters it'll need in it's `__init__` function\n",
    "b) define the model's computation, using those parameters, in a forward function.\n",
    "\n",
    "\n",
    "To keep things simple, lets define a simple linear classifer, like logistic regression. We'll experiment with more complex models soon."
   ]
  },
  {
   "cell_type": "code",
   "execution_count": 8,
   "metadata": {},
   "outputs": [],
   "source": [
    "class Model(nn.Module):\n",
    "    def __init__(self):\n",
    "        super(Model, self).__init__()\n",
    "        self.fc = nn.Linear(28*28, 10)\n",
    "\n",
    "    def forward(self, x):\n",
    "        batch_size, num_channels, height, width = x.size()\n",
    "        x = x.view(batch_size, -1)\n",
    "        return self.fc(x)\n"
   ]
  },
  {
   "cell_type": "markdown",
   "metadata": {},
   "source": [
    "## Step 3. Defining our training procedure\n",
    "\n",
    "To train our model, let's introduce a couple new PyTorch ideas.\n",
    "\n",
    "A [DataLoader](https://pytorch.org/docs/stable/data.html#torch.utils.data.DataLoader) is an iterator that goes over our entire dataset and selects batches. \n",
    "We'll be using this to iterate through our train/dev/test sets.\n",
    "\n",
    "Let's intialize these now. \n",
    "\n",
    "An [Optimizer](https://pytorch.org/docs/stable/optim.html) defines an update rule. In class, we've discussed vanilla SGD, which is one method to compute the next weight, given the current weight and gradient. There are plently of other optimizers you can try from the pytorch library. \n"
   ]
  },
  {
   "cell_type": "code",
   "execution_count": 22,
   "metadata": {},
   "outputs": [],
   "source": [
    "# Training settings\n",
    "batch_size = 64\n",
    "epochs = 15\n",
    "lr = .01\n",
    "momentum = 0.5\n",
    "\n",
    "\n",
    "train_loader = torch.utils.data.DataLoader(train, batch_size=batch_size, shuffle=True)\n",
    "dev_loader = torch.utils.data.DataLoader(dev, batch_size=batch_size, shuffle=True)\n",
    "test_loader = torch.utils.data.DataLoader(test, batch_size=batch_size, shuffle=True)\n",
    "\n",
    "\n",
    "model = Model()\n",
    "optimizer = optim.SGD(model.parameters(), lr=lr, momentum=momentum)\n"
   ]
  },
  {
   "cell_type": "markdown",
   "metadata": {},
   "source": [
    "To train our model:\n",
    "\n",
    "1) we'll randomly sample batches from our train loader\n",
    "\n",
    "2) compute our loss (using standard `cross_entropy`)\n",
    "\n",
    "3) compute our gradients (by calling `backward()` on our loss)\n",
    "\n",
    "4) update our neural network with an `optimizer.step()`, and go back to 1)\n",
    "\n",
    "I've added some extra stuff here to log our accuracy and avg loss for the epoch.\n"
   ]
  },
  {
   "cell_type": "code",
   "execution_count": 23,
   "metadata": {},
   "outputs": [],
   "source": [
    "def train_epoch( model, train_loader, optimizer, epoch):\n",
    "    model.train() # Set the nn.Module to train mode. \n",
    "    total_loss = 0\n",
    "    correct = 0\n",
    "    num_samples = len(train_loader.dataset)\n",
    "    for batch_idx, (data, target) in enumerate(train_loader):\n",
    "        optimizer.zero_grad()\n",
    "        output = model(data)\n",
    "        loss = F.cross_entropy(output, target)\n",
    "        loss.backward()\n",
    "        optimizer.step()\n",
    "        pred = output.max(1, keepdim=True)[1] # get the index of the max log-probability\n",
    "        correct += pred.eq(target.view_as(pred)).sum().item()\n",
    "        total_loss += loss.detach() # Don't keep computation graph \n",
    "\n",
    "    print('Train Epoch: {} \\tLoss: {:.4f}, Accuracy: {}/{} ({:.0f}%)'.format(\n",
    "            epoch, total_loss / num_samples, \n",
    "            correct, \n",
    "            num_samples,\n",
    "            100. * correct / num_samples))\n"
   ]
  },
  {
   "cell_type": "markdown",
   "metadata": {},
   "source": [
    "## Step 3.5 Define our evaluation loop\n",
    "Similar to above, we'll also loop through our dev or test set, and compute our loss and accuracy. \n",
    "This lets us see how well our model is generalizing. "
   ]
  },
  {
   "cell_type": "code",
   "execution_count": 24,
   "metadata": {},
   "outputs": [],
   "source": [
    "def eval_epoch(model, test_loader, name):\n",
    "    model.eval()\n",
    "    test_loss = 0\n",
    "    correct = 0\n",
    "    for data, target in test_loader:\n",
    "        output = model(data)\n",
    "        test_loss += F.cross_entropy(output, target).item() # sum up batch loss\n",
    "        pred = output.max(1, keepdim=True)[1] # get the index of the max log-probability\n",
    "        correct += pred.eq(target.view_as(pred)).sum().item()\n",
    "\n",
    "    test_loss /= len(test_loader.dataset)\n",
    "    print('\\n{} set: Average loss: {:.4f}, Accuracy: {}/{} ({:.0f}%)\\n'.format(\n",
    "        name,\n",
    "        test_loss, \n",
    "        correct, \n",
    "        len(test_loader.dataset),\n",
    "        100. * correct / len(test_loader.dataset)))\n"
   ]
  },
  {
   "cell_type": "markdown",
   "metadata": {},
   "source": [
    "## Step 4: Training the model"
   ]
  },
  {
   "cell_type": "code",
   "execution_count": 25,
   "metadata": {},
   "outputs": [
    {
     "name": "stdout",
     "output_type": "stream",
     "text": [
      "Train Epoch: 1 \tLoss: 0.0308, Accuracy: 16512/48000 (34%)\n",
      "\n",
      "Dev set: Average loss: 0.0259, Accuracy: 5506/12000 (46%)\n",
      "\n",
      "---\n",
      "Train Epoch: 2 \tLoss: 0.0220, Accuracy: 28596/48000 (60%)\n",
      "\n",
      "Dev set: Average loss: 0.0187, Accuracy: 7990/12000 (67%)\n",
      "\n",
      "---\n",
      "Train Epoch: 3 \tLoss: 0.0168, Accuracy: 32857/48000 (68%)\n",
      "\n",
      "Dev set: Average loss: 0.0150, Accuracy: 8613/12000 (72%)\n",
      "\n",
      "---\n",
      "Train Epoch: 4 \tLoss: 0.0143, Accuracy: 34473/48000 (72%)\n",
      "\n",
      "Dev set: Average loss: 0.0133, Accuracy: 8929/12000 (74%)\n",
      "\n",
      "---\n",
      "Train Epoch: 5 \tLoss: 0.0130, Accuracy: 35453/48000 (74%)\n",
      "\n",
      "Dev set: Average loss: 0.0125, Accuracy: 9049/12000 (75%)\n",
      "\n",
      "---\n",
      "Train Epoch: 6 \tLoss: 0.0122, Accuracy: 36175/48000 (75%)\n",
      "\n",
      "Dev set: Average loss: 0.0118, Accuracy: 9177/12000 (76%)\n",
      "\n",
      "---\n",
      "Train Epoch: 7 \tLoss: 0.0116, Accuracy: 36588/48000 (76%)\n",
      "\n",
      "Dev set: Average loss: 0.0114, Accuracy: 9259/12000 (77%)\n",
      "\n",
      "---\n",
      "Train Epoch: 8 \tLoss: 0.0112, Accuracy: 36956/48000 (77%)\n",
      "\n",
      "Dev set: Average loss: 0.0107, Accuracy: 9361/12000 (78%)\n",
      "\n",
      "---\n",
      "Train Epoch: 9 \tLoss: 0.0108, Accuracy: 37240/48000 (78%)\n",
      "\n",
      "Dev set: Average loss: 0.0105, Accuracy: 9427/12000 (79%)\n",
      "\n",
      "---\n",
      "Train Epoch: 10 \tLoss: 0.0105, Accuracy: 37520/48000 (78%)\n",
      "\n",
      "Dev set: Average loss: 0.0107, Accuracy: 9388/12000 (78%)\n",
      "\n",
      "---\n",
      "Train Epoch: 11 \tLoss: 0.0103, Accuracy: 37687/48000 (79%)\n",
      "\n",
      "Dev set: Average loss: 0.0102, Accuracy: 9459/12000 (79%)\n",
      "\n",
      "---\n",
      "Train Epoch: 12 \tLoss: 0.0102, Accuracy: 37870/48000 (79%)\n",
      "\n",
      "Dev set: Average loss: 0.0101, Accuracy: 9571/12000 (80%)\n",
      "\n",
      "---\n",
      "Train Epoch: 13 \tLoss: 0.0100, Accuracy: 37914/48000 (79%)\n",
      "\n",
      "Dev set: Average loss: 0.0100, Accuracy: 9549/12000 (80%)\n",
      "\n",
      "---\n",
      "Train Epoch: 14 \tLoss: 0.0098, Accuracy: 38082/48000 (79%)\n",
      "\n",
      "Dev set: Average loss: 0.0098, Accuracy: 9569/12000 (80%)\n",
      "\n",
      "---\n",
      "Train Epoch: 15 \tLoss: 0.0097, Accuracy: 38275/48000 (80%)\n",
      "\n",
      "Dev set: Average loss: 0.0096, Accuracy: 9652/12000 (80%)\n",
      "\n",
      "---\n"
     ]
    }
   ],
   "source": [
    "\n",
    "for epoch in range(1, epochs + 1):\n",
    "    train_epoch(model, train_loader, optimizer, epoch)\n",
    "    eval_epoch(model,  dev_loader, \"Dev\")\n",
    "    print(\"---\")"
   ]
  },
  {
   "cell_type": "markdown",
   "metadata": {},
   "source": [
    "# Step 5. Experiment with MLP\n",
    "This model gets a dev accuracy of 93%, which isn't too bad. However, the power of neural networks comes from composing layers with nonlinearities.\n",
    "\n",
    "Let's try a more complex model."
   ]
  },
  {
   "cell_type": "code",
   "execution_count": 20,
   "metadata": {},
   "outputs": [
    {
     "name": "stdout",
     "output_type": "stream",
     "text": [
      "Train Epoch: 1 \tLoss: 0.0097, Accuracy: 40389/48000 (84%)\n",
      "\n",
      "Dev set: Average loss: 0.0044, Accuracy: 11013/12000 (92%)\n",
      "\n",
      "---\n",
      "Train Epoch: 2 \tLoss: 0.0041, Accuracy: 44392/48000 (92%)\n",
      "\n",
      "Dev set: Average loss: 0.0034, Accuracy: 11271/12000 (94%)\n",
      "\n",
      "---\n",
      "Train Epoch: 3 \tLoss: 0.0031, Accuracy: 45206/48000 (94%)\n",
      "\n",
      "Dev set: Average loss: 0.0027, Accuracy: 11425/12000 (95%)\n",
      "\n",
      "---\n",
      "Train Epoch: 4 \tLoss: 0.0025, Accuracy: 45763/48000 (95%)\n",
      "\n",
      "Dev set: Average loss: 0.0023, Accuracy: 11507/12000 (96%)\n",
      "\n",
      "---\n",
      "Train Epoch: 5 \tLoss: 0.0021, Accuracy: 46156/48000 (96%)\n",
      "\n",
      "Dev set: Average loss: 0.0021, Accuracy: 11578/12000 (96%)\n",
      "\n",
      "---\n",
      "Train Epoch: 6 \tLoss: 0.0018, Accuracy: 46392/48000 (97%)\n",
      "\n",
      "Dev set: Average loss: 0.0019, Accuracy: 11588/12000 (97%)\n",
      "\n",
      "---\n",
      "Train Epoch: 7 \tLoss: 0.0015, Accuracy: 46639/48000 (97%)\n",
      "\n",
      "Dev set: Average loss: 0.0017, Accuracy: 11625/12000 (97%)\n",
      "\n",
      "---\n",
      "Train Epoch: 8 \tLoss: 0.0013, Accuracy: 46832/48000 (98%)\n",
      "\n",
      "Dev set: Average loss: 0.0017, Accuracy: 11622/12000 (97%)\n",
      "\n",
      "---\n",
      "Train Epoch: 9 \tLoss: 0.0012, Accuracy: 46967/48000 (98%)\n",
      "\n",
      "Dev set: Average loss: 0.0016, Accuracy: 11642/12000 (97%)\n",
      "\n",
      "---\n",
      "Train Epoch: 10 \tLoss: 0.0010, Accuracy: 47130/48000 (98%)\n",
      "\n",
      "Dev set: Average loss: 0.0015, Accuracy: 11652/12000 (97%)\n",
      "\n",
      "---\n"
     ]
    }
   ],
   "source": [
    "class Model(nn.Module):\n",
    "    def __init__(self):\n",
    "        super(Model, self).__init__()\n",
    "        self.fc1 = nn.Linear(28*28, 200)\n",
    "        self.fc2 = nn.Linear(200, 200)\n",
    "        self.fc3 = nn.Linear(200, 10)\n",
    "        \n",
    "\n",
    "    def forward(self, x):\n",
    "        batch_size, num_channels, height, width = x.size()\n",
    "        x = x.view(batch_size, -1)\n",
    "        hidden1 = F.relu(self.fc1(x))\n",
    "        hidden2 = F.relu(self.fc2(hidden1))\n",
    "        logit = self.fc3(hidden2)\n",
    "        return logit\n",
    "    \n",
    "model = Model()\n",
    "optimizer = optim.SGD(model.parameters(), lr=lr, momentum=momentum)\n",
    "\n",
    "for epoch in range(1, epochs + 1):\n",
    "    train_epoch(model, train_loader, optimizer, epoch)\n",
    "    eval_epoch(model,  dev_loader, \"Dev\")\n",
    "    print(\"---\")"
   ]
  },
  {
   "cell_type": "code",
   "execution_count": null,
   "metadata": {},
   "outputs": [],
   "source": []
  },
  {
   "cell_type": "markdown",
   "metadata": {},
   "source": [
    "## Step 6. Experiment with CNN\n",
    "A 3 layer MLP gets a dev accuracy of 97%, a strong imporvement over the simple linear model.\n",
    "Now let's experiment with a covolutional neural network.\n"
   ]
  },
  {
   "cell_type": "code",
   "execution_count": 21,
   "metadata": {},
   "outputs": [
    {
     "name": "stdout",
     "output_type": "stream",
     "text": [
      "Train Epoch: 1 \tLoss: 0.0307, Accuracy: 16339/48000 (34%)\n",
      "\n",
      "Dev set: Average loss: 0.0254, Accuracy: 6226/12000 (52%)\n",
      "\n",
      "---\n",
      "Train Epoch: 2 \tLoss: 0.0220, Accuracy: 27688/48000 (58%)\n",
      "\n",
      "Dev set: Average loss: 0.0190, Accuracy: 7714/12000 (64%)\n",
      "\n",
      "---\n",
      "Train Epoch: 3 \tLoss: 0.0176, Accuracy: 31061/48000 (65%)\n",
      "\n",
      "Dev set: Average loss: 0.0161, Accuracy: 8174/12000 (68%)\n",
      "\n",
      "---\n",
      "Train Epoch: 4 \tLoss: 0.0153, Accuracy: 33100/48000 (69%)\n",
      "\n",
      "Dev set: Average loss: 0.0144, Accuracy: 8574/12000 (71%)\n",
      "\n",
      "---\n",
      "Train Epoch: 5 \tLoss: 0.0138, Accuracy: 34563/48000 (72%)\n",
      "\n",
      "Dev set: Average loss: 0.0129, Accuracy: 9016/12000 (75%)\n",
      "\n",
      "---\n",
      "Train Epoch: 6 \tLoss: 0.0128, Accuracy: 35446/48000 (74%)\n",
      "\n",
      "Dev set: Average loss: 0.0123, Accuracy: 9023/12000 (75%)\n",
      "\n",
      "---\n",
      "Train Epoch: 7 \tLoss: 0.0120, Accuracy: 36143/48000 (75%)\n",
      "\n",
      "Dev set: Average loss: 0.0120, Accuracy: 9011/12000 (75%)\n",
      "\n",
      "---\n",
      "Train Epoch: 8 \tLoss: 0.0114, Accuracy: 36781/48000 (77%)\n",
      "\n",
      "Dev set: Average loss: 0.0115, Accuracy: 9065/12000 (76%)\n",
      "\n",
      "---\n",
      "Train Epoch: 9 \tLoss: 0.0110, Accuracy: 36971/48000 (77%)\n",
      "\n",
      "Dev set: Average loss: 0.0114, Accuracy: 9198/12000 (77%)\n",
      "\n",
      "---\n",
      "Train Epoch: 10 \tLoss: 0.0107, Accuracy: 37386/48000 (78%)\n",
      "\n",
      "Dev set: Average loss: 0.0104, Accuracy: 9438/12000 (79%)\n",
      "\n",
      "---\n"
     ]
    }
   ],
   "source": [
    "class Model(nn.Module):\n",
    "    def __init__(self):\n",
    "        super(Model, self).__init__()\n",
    "        self.hidden_dim = 128\n",
    "        self.conv1 = nn.Conv2d(1, self.hidden_dim, kernel_size=3)\n",
    "        self.fc = nn.Linear(self.hidden_dim, 10)\n",
    "        \n",
    "    def forward(self, x):\n",
    "        batch_size, num_channels, height, width = x.size()\n",
    "        \n",
    "        hidden = F.relu(self.conv1(x))\n",
    "        hidden = hidden.view((batch_size, self.hidden_dim, -1))\n",
    "        hidden,_ = torch.max(hidden, dim=-1)\n",
    "        logit = self.fc(hidden)\n",
    "        return logit\n",
    "    \n",
    "model = Model()\n",
    "optimizer = optim.SGD(model.parameters(), lr=lr, momentum=momentum)\n",
    "\n",
    "for epoch in range(1, epochs + 1):\n",
    "    train_epoch(model, train_loader, optimizer, epoch)\n",
    "    eval_epoch(model,  dev_loader, \"Dev\")\n",
    "    print(\"---\")"
   ]
  },
  {
   "cell_type": "markdown",
   "metadata": {},
   "source": [
    "## Step 7. Explore further.\n",
    "You can try different model architectures, different optimizers, learning rates and regularization strategies. Neural networks are incredibly flexibile, and so the space to do explore is enourmous.  Once you're done exploring, take your best model (i.e achieves best results on dev set) and run it on test!"
   ]
  },
  {
   "cell_type": "code",
   "execution_count": null,
   "metadata": {},
   "outputs": [],
   "source": [
    "eval_epoch(model,  test_loader, \"Test\")"
   ]
  },
  {
   "cell_type": "markdown",
   "metadata": {},
   "source": [
    "## Step 8. Now try it on your own on CIFAR\n"
   ]
  }
 ],
 "metadata": {
  "kernelspec": {
   "display_name": "Python 3",
   "language": "python",
   "name": "python3"
  },
  "language_info": {
   "codemirror_mode": {
    "name": "ipython",
    "version": 3
   },
   "file_extension": ".py",
   "mimetype": "text/x-python",
   "name": "python",
   "nbconvert_exporter": "python",
   "pygments_lexer": "ipython3",
   "version": "3.6.0"
  }
 },
 "nbformat": 4,
 "nbformat_minor": 2
}
