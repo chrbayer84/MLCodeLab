{
 "cells": [
  {
   "cell_type": "code",
   "execution_count": 7,
   "metadata": {},
   "outputs": [],
   "source": [
    "import argparse\n",
    "import torch\n",
    "import torch.nn as nn\n",
    "import torch.nn.functional as F\n",
    "import torch.optim as optim\n",
    "from torchvision import datasets, transforms\n",
    "from tqdm import tqdm"
   ]
  },
  {
   "cell_type": "markdown",
   "metadata": {},
   "source": [
    "# The Task: CIFAR Classification\n",
    "<img src=\"cifar.png\">\n",
    "\n",
    "In this lab, we'll build a neural network to classify images on CIFAR 10.\n",
    "\n",
    "\n",
    "\n",
    "## Step 1: Loading Data and Preprocessing\n",
    "Let's start by loading the data.\n",
    "We're going to normalize our images to have 0 mean, and unit variance. We'll do this using some torchvision transforms. This generally helps stablize learning, and is common practice. "
   ]
  },
  {
   "cell_type": "code",
   "execution_count": 6,
   "metadata": {},
   "outputs": [
    {
     "name": "stdout",
     "output_type": "stream",
     "text": [
      "Downloading https://www.cs.toronto.edu/~kriz/cifar-10-python.tar.gz to data/cifar-10-python.tar.gz\n",
      "Files already downloaded and verified\n"
     ]
    }
   ],
   "source": [
    "normalize_image = transforms.Compose([\n",
    "                           transforms.ToTensor(),\n",
    "                        transforms.Normalize((0.5, 0.5, 0.5), (0.5, 0.5, 0.5))   \n",
    "                       ])\n",
    "\n",
    "all_train = datasets.CIFAR10('data', train=True, download=True,\n",
    "                        transform=normalize_image)\n",
    "num_train = int(len(all_train)*.8)\n",
    "train = [all_train[i] for i in range(num_train)]\n",
    "dev = [all_train[i] for i in range(num_train,len(all_train))]\n",
    "test = datasets.CIFAR10('data', train=False, download=True, \n",
    "                      transform=normalize_image)\n",
    "                           \n"
   ]
  },
  {
   "cell_type": "code",
   "execution_count": 7,
   "metadata": {},
   "outputs": [
    {
     "data": {
      "text/plain": [
       "torch.Size([1, 28, 28])"
      ]
     },
     "execution_count": 7,
     "metadata": {},
     "output_type": "execute_result"
    }
   ],
   "source": [
    "train[0][0].size()"
   ]
  },
  {
   "cell_type": "markdown",
   "metadata": {},
   "source": [
    "## Step 2: Building a model\n",
    "\n",
    "All pytorch models should be implemented as instances of `nn.Module`. \n",
    "\n",
    "To build a model you need to:\n",
    "a) define what parameters it'll need in it's `__init__` function\n",
    "b) define the model's computation, using those parameters, in a forward function.\n",
    "\n",
    "\n",
    "Experiment with different neural architectures. I recommend starting with a simple linear model and building up from there."
   ]
  },
  {
   "cell_type": "code",
   "execution_count": 8,
   "metadata": {},
   "outputs": [],
   "source": [
    "class Model(nn.Module):\n",
    "    def __init__(self):\n",
    "        super(Model, self).__init__()\n",
    "        #TODO Define your own model\n",
    "        pass\n",
    "\n",
    "    def forward(self, x):\n",
    "        #TODO Define the forward function for your model\n",
    "        pass\n",
    "        return x\n"
   ]
  },
  {
   "cell_type": "markdown",
   "metadata": {},
   "source": [
    "## Step 3. Defining our training procedure\n",
    "\n",
    "Set your batch size, learning rate, number of epochs etc. Experiment with various hyper parameters.\n"
   ]
  },
  {
   "cell_type": "code",
   "execution_count": 9,
   "metadata": {},
   "outputs": [],
   "source": [
    "# Training settings\n",
    "batch_size =  # TODO, experiment with different values\n",
    "epochs = # TODO, experiment with different values\n",
    "lr = # TODO, experiment with different values\n",
    "momentum = # TODO, experiment with different values\n",
    "\n",
    "\n",
    "train_loader = torch.utils.data.DataLoader(train, batch_size=batch_size, shuffle=True)\n",
    "dev_loader = torch.utils.data.DataLoader(dev, batch_size=batch_size, shuffle=True)\n",
    "test_loader = torch.utils.data.DataLoader(test, batch_size=batch_size, shuffle=True)\n",
    "\n",
    "\n",
    "model = Model()\n",
    "optimizer = optim.SGD(model.parameters(), lr=lr, momentum=momentum) # TODO, Try Adam Optimizer or other optimizers.\n"
   ]
  },
  {
   "cell_type": "markdown",
   "metadata": {},
   "source": []
  },
  {
   "cell_type": "code",
   "execution_count": 2,
   "metadata": {},
   "outputs": [],
   "source": [
    "\n",
    "def train_epoch( model, train_loader, optimizer, epoch):\n",
    "    model.train() # Set the nn.Module to train mode. \n",
    "    total_loss = 0\n",
    "    correct = 0\n",
    "    num_samples = len(train_loader.dataset)\n",
    "    for batch_idx, (data, target) in enumerate(train_loader):\n",
    "        optimizer.zero_grad()\n",
    "        output = model(data)\n",
    "        loss = F.cross_entropy(output, target)\n",
    "        loss.backward()\n",
    "        optimizer.step()\n",
    "        pred = output.max(1, keepdim=True)[1] # get the index of the max log-probability\n",
    "        correct += pred.eq(target.view_as(pred)).sum().item()\n",
    "        total_loss += loss.detach() # Don't keep computation graph \n",
    "\n",
    "    print('Train Epoch: {} \\tLoss: {:.4f}, Accuracy: {}/{} ({:.0f}%)'.format(\n",
    "            epoch, total_loss / num_samples, \n",
    "            correct, \n",
    "            num_samples,\n",
    "            100. * correct / num_samples))\n"
   ]
  },
  {
   "cell_type": "code",
   "execution_count": 3,
   "metadata": {},
   "outputs": [],
   "source": [
    "def eval_epoch(model, test_loader, name):\n",
    "    model.eval()\n",
    "    test_loss = 0\n",
    "    correct = 0\n",
    "    for data, target in test_loader:\n",
    "        output = model(data)\n",
    "        test_loss += F.cross_entropy(output, target).item() # sum up batch loss\n",
    "        pred = output.max(1, keepdim=True)[1] # get the index of the max log-probability\n",
    "        correct += pred.eq(target.view_as(pred)).sum().item()\n",
    "\n",
    "    test_loss /= len(test_loader.dataset)\n",
    "    print('\\n{} set: Average loss: {:.4f}, Accuracy: {}/{} ({:.0f}%)\\n'.format(\n",
    "        name,\n",
    "        test_loss, \n",
    "        correct, \n",
    "        len(test_loader.dataset),\n",
    "        100. * correct / len(test_loader.dataset)))\n"
   ]
  },
  {
   "cell_type": "markdown",
   "metadata": {},
   "source": [
    "## Step 4: Training the model"
   ]
  },
  {
   "cell_type": "code",
   "execution_count": 12,
   "metadata": {},
   "outputs": [
    {
     "name": "stdout",
     "output_type": "stream",
     "text": [
      "Train Epoch: 1 \tLoss: 0.0067, Accuracy: 43982/50000 (88%)\n",
      "\n",
      "Dev set: Average loss: 0.0048, Accuracy: 9129/10000 (91%)\n",
      "\n",
      "---\n",
      "Train Epoch: 2 \tLoss: 0.0050, Accuracy: 45419/50000 (91%)\n",
      "\n",
      "Dev set: Average loss: 0.0045, Accuracy: 9182/10000 (92%)\n",
      "\n",
      "---\n",
      "Train Epoch: 3 \tLoss: 0.0047, Accuracy: 45729/50000 (91%)\n",
      "\n",
      "Dev set: Average loss: 0.0044, Accuracy: 9194/10000 (92%)\n",
      "\n",
      "---\n",
      "Train Epoch: 4 \tLoss: 0.0046, Accuracy: 45870/50000 (92%)\n",
      "\n",
      "Dev set: Average loss: 0.0043, Accuracy: 9227/10000 (92%)\n",
      "\n",
      "---\n",
      "Train Epoch: 5 \tLoss: 0.0045, Accuracy: 45953/50000 (92%)\n",
      "\n",
      "Dev set: Average loss: 0.0043, Accuracy: 9221/10000 (92%)\n",
      "\n",
      "---\n",
      "Train Epoch: 6 \tLoss: 0.0044, Accuracy: 46027/50000 (92%)\n",
      "\n",
      "Dev set: Average loss: 0.0042, Accuracy: 9258/10000 (93%)\n",
      "\n",
      "---\n",
      "Train Epoch: 7 \tLoss: 0.0044, Accuracy: 46097/50000 (92%)\n",
      "\n",
      "Dev set: Average loss: 0.0043, Accuracy: 9241/10000 (92%)\n",
      "\n",
      "---\n",
      "Train Epoch: 8 \tLoss: 0.0043, Accuracy: 46135/50000 (92%)\n",
      "\n",
      "Dev set: Average loss: 0.0042, Accuracy: 9253/10000 (93%)\n",
      "\n",
      "---\n",
      "Train Epoch: 9 \tLoss: 0.0043, Accuracy: 46137/50000 (92%)\n",
      "\n",
      "Dev set: Average loss: 0.0041, Accuracy: 9262/10000 (93%)\n",
      "\n",
      "---\n",
      "Train Epoch: 10 \tLoss: 0.0042, Accuracy: 46199/50000 (92%)\n",
      "\n",
      "Dev set: Average loss: 0.0042, Accuracy: 9274/10000 (93%)\n",
      "\n",
      "---\n"
     ]
    }
   ],
   "source": [
    "\n",
    "for epoch in range(1, epochs + 1):\n",
    "    train_epoch(model, train_loader, optimizer, epoch)\n",
    "    eval_epoch(model,  dev_loader, \"Dev\")\n",
    "    print(\"---\")"
   ]
  }
 ],
 "metadata": {
  "kernelspec": {
   "display_name": "Python 3",
   "language": "python",
   "name": "python3"
  },
  "language_info": {
   "codemirror_mode": {
    "name": "ipython",
    "version": 3
   },
   "file_extension": ".py",
   "mimetype": "text/x-python",
   "name": "python",
   "nbconvert_exporter": "python",
   "pygments_lexer": "ipython3",
   "version": "3.6.4"
  }
 },
 "nbformat": 4,
 "nbformat_minor": 2
}
