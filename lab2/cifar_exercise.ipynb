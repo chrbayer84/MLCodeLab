{
 "cells": [
  {
   "cell_type": "code",
   "execution_count": 17,
   "metadata": {},
   "outputs": [],
   "source": [
    "import argparse\n",
    "import torch\n",
    "import torch.nn as nn\n",
    "import torch.nn.functional as F\n",
    "import torch.optim as optim\n",
    "from torchvision import datasets, transforms\n",
    "from tqdm import tqdm"
   ]
  },
  {
   "cell_type": "markdown",
   "metadata": {},
   "source": [
    "# The Task: CIFAR Classification\n",
    "<img src=\"cifar.png\">\n",
    "\n",
    "In this lab, we'll build a neural network to classify images on CIFAR 10.\n",
    "\n",
    "\n",
    "\n",
    "## Step 1: Loading Data and Preprocessing\n",
    "Let's start by loading the data.\n",
    "We're going to normalize our images to have 0 mean, and unit variance. We'll do this using some torchvision transforms. This generally helps stablize learning, and is common practice. "
   ]
  },
  {
   "cell_type": "code",
   "execution_count": 18,
   "metadata": {},
   "outputs": [
    {
     "name": "stdout",
     "output_type": "stream",
     "text": [
      "Files already downloaded and verified\n",
      "Files already downloaded and verified\n"
     ]
    }
   ],
   "source": [
    "normalize_image = transforms.Compose([\n",
    "                           transforms.ToTensor(),\n",
    "                        transforms.Normalize((0.5, 0.5, 0.5), (0.5, 0.5, 0.5))   \n",
    "                       ])\n",
    "\n",
    "all_train = datasets.CIFAR10('data', train=True, download=True,\n",
    "                        transform=normalize_image)\n",
    "num_train = int(len(all_train)*.8)\n",
    "train = [all_train[i] for i in range(num_train)]\n",
    "dev = [all_train[i] for i in range(num_train,len(all_train))]\n",
    "test = datasets.CIFAR10('data', train=False, download=True, \n",
    "                      transform=normalize_image)\n",
    "                           \n"
   ]
  },
  {
   "cell_type": "code",
   "execution_count": 19,
   "metadata": {},
   "outputs": [
    {
     "name": "stdout",
     "output_type": "stream",
     "text": [
      "tensor([[[-0.5373, -0.6627, -0.6078,  ...,  0.2392,  0.1922,  0.1608],\n",
      "         [-0.8745, -1.0000, -0.8588,  ..., -0.0353, -0.0667, -0.0431],\n",
      "         [-0.8039, -0.8745, -0.6157,  ..., -0.0745, -0.0588, -0.1451],\n",
      "         ...,\n",
      "         [ 0.6314,  0.5765,  0.5529,  ...,  0.2549, -0.5608, -0.5843],\n",
      "         [ 0.4118,  0.3569,  0.4588,  ...,  0.4431, -0.2392, -0.3490],\n",
      "         [ 0.3882,  0.3176,  0.4039,  ...,  0.6941,  0.1843, -0.0353]],\n",
      "\n",
      "        [[-0.5137, -0.6392, -0.6235,  ...,  0.0353, -0.0196, -0.0275],\n",
      "         [-0.8431, -1.0000, -0.9373,  ..., -0.3098, -0.3490, -0.3176],\n",
      "         [-0.8118, -0.9451, -0.7882,  ..., -0.3412, -0.3412, -0.4275],\n",
      "         ...,\n",
      "         [ 0.3333,  0.2000,  0.2627,  ...,  0.0431, -0.7569, -0.7333],\n",
      "         [ 0.0902, -0.0353,  0.1294,  ...,  0.1608, -0.5137, -0.5843],\n",
      "         [ 0.1294,  0.0118,  0.1137,  ...,  0.4431, -0.0745, -0.2784]],\n",
      "\n",
      "        [[-0.5059, -0.6471, -0.6627,  ..., -0.1529, -0.2000, -0.1922],\n",
      "         [-0.8431, -1.0000, -1.0000,  ..., -0.5686, -0.6078, -0.5529],\n",
      "         [-0.8353, -1.0000, -0.9373,  ..., -0.6078, -0.6078, -0.6706],\n",
      "         ...,\n",
      "         [-0.2471, -0.7333, -0.7961,  ..., -0.4510, -0.9451, -0.8431],\n",
      "         [-0.2471, -0.6706, -0.7647,  ..., -0.2627, -0.7333, -0.7333],\n",
      "         [-0.0902, -0.2627, -0.3176,  ...,  0.0980, -0.3412, -0.4353]]])\n"
     ]
    }
   ],
   "source": [
    "train[0][0].size()\n",
    "print(train[0][0])"
   ]
  },
  {
   "cell_type": "markdown",
   "metadata": {},
   "source": [
    "## Step 2: Building a model\n",
    "\n",
    "All pytorch models should be implemented as instances of `nn.Module`. \n",
    "\n",
    "To build a model you need to:\n",
    "a) define what parameters it'll need in it's `__init__` function\n",
    "b) define the model's computation, using those parameters, in a forward function.\n",
    "\n",
    "\n",
    "Experiment with different neural architectures. I recommend starting with a simple linear model and building up from there."
   ]
  },
  {
   "cell_type": "code",
   "execution_count": 20,
   "metadata": {},
   "outputs": [],
   "source": [
    "class Model(nn.Module):\n",
    "#    def __init__(self):\n",
    "#        super(Model, self).__init__()\n",
    "#        self.fc = nn.Linear(32*32*3, 10)\n",
    "\n",
    "\n",
    "#    def forward(self, x):\n",
    "#        batch_size, num_channels, height, width = x.size()\n",
    "#        x = x.view(batch_size, -1)\n",
    "#        return self.fc(x)\n",
    "#    def __init__(self):\n",
    "#        super(Model, self).__init__()\n",
    "#        self.conv1 = nn.Conv2d(3, 128, kernel_size=10)\n",
    "#        self.conv2 = nn.Conv2d(128, 256, kernel_size=3)\n",
    "#        self.conv3 = nn.Conv2d(256, 512, kernel_size=3)\n",
    "#        self.fc = nn.Linear(512, 10)\n",
    "        \n",
    "#    def forward(self, x):\n",
    "#        batch_size, num_channels, height, width = x.size()\n",
    "#        hidden = F.relu(self.conv1(x))\n",
    "#        hidden = F.relu(self.conv2(hidden))\n",
    "#        hidden = F.relu(self.conv3(hidden))\n",
    "#        hidden = hidden.view((batch_size, 512, -1))\n",
    "#        hidden = torch.mean(hidden, dim=-1)\n",
    "#        logit = self.fc(hidden)\n",
    "#        return logit\n",
    "    \n",
    "    def __init__(self):\n",
    "        super(Model, self).__init__()\n",
    "        self.conv1 = nn.Conv2d(3, 9, 5)\n",
    "        self.pool  = nn.MaxPool2d(2,2)\n",
    "        self.conv2 = nn.Conv2d(9, 32, 5)\n",
    "        self.fc1   = nn.Linear(32*5*5, 120)\n",
    "        self.fc2   = nn.Linear(120, 84)\n",
    "        self.fc3   = nn.Linear(84, 10)\n",
    "\n",
    "    def forward(self, x):\n",
    "        x = self.pool(F.relu(self.conv1(x)))\n",
    "        x = self.pool(F.relu(self.conv2(x)))\n",
    "        x = x.view(-1, 32*5*5)\n",
    "        x = F.relu(self.fc1(x))\n",
    "        x = F.relu(self.fc2(x))\n",
    "        x = self.fc3(x)\n",
    "        return x\n",
    "    \n",
    "#class Model(nn.Module):\n",
    "#    def __init__(self):\n",
    "#        super(Model, self).__init__()\n",
    "#        self.hidden_dim = 32*32*3\n",
    "#        self.conv1 = nn.Conv2d(3, self.hidden_dim, kernel_size=3)\n",
    "#        self.fc = nn.Linear(self.hidden_dim, 10)\n",
    "        \n",
    "#    def forward(self, x):\n",
    "#        batch_size, num_channels, height, width = x.size()\n",
    "        \n",
    "#        hidden = F.relu(self.conv1(x))\n",
    "#        hidden = hidden.view((batch_size, self.hidden_dim, -1))\n",
    "#        hidden,_ = torch.max(hidden, dim=-1)\n",
    "#        logit = self.fc(hidden)\n",
    "#        return logit\n",
    "    \n",
    "    "
   ]
  },
  {
   "cell_type": "markdown",
   "metadata": {},
   "source": [
    "## Step 3. Defining our training procedure\n",
    "\n",
    "Set your batch size, learning rate, number of epochs etc. Experiment with various hyper parameters.\n"
   ]
  },
  {
   "cell_type": "code",
   "execution_count": 21,
   "metadata": {},
   "outputs": [],
   "source": [
    "# Training settings\n",
    "batch_size = 64\n",
    "epochs = 10\n",
    "lr = .01\n",
    "momentum = 0.9\n",
    "\n",
    "\n",
    "train_loader = torch.utils.data.DataLoader(train, batch_size=batch_size, shuffle=True)\n",
    "dev_loader = torch.utils.data.DataLoader(dev, batch_size=batch_size, shuffle=True)\n",
    "test_loader = torch.utils.data.DataLoader(test, batch_size=batch_size, shuffle=True)\n",
    "\n",
    "\n",
    "model = Model()\n",
    "#optimizer = optim.SGD(model.parameters(), lr=lr, momentum=momentum) # TODO, Try Adam Optimizer or other optimizers.\n",
    "optimizer = optim.SGD(model.parameters(), lr=.01, momentum=0.9) # TODO, Try Adam Optimizer or other optimizers.\n",
    "#optimizer = optim.Adam(model.parameters()) # lr=lr, betas=(0.8, 0.99), eps=1e-08, weight_decay=0, amsgrad=False)"
   ]
  },
  {
   "cell_type": "markdown",
   "metadata": {},
   "source": []
  },
  {
   "cell_type": "code",
   "execution_count": 22,
   "metadata": {},
   "outputs": [],
   "source": [
    "\n",
    "def train_epoch( model, train_loader, optimizer, epoch):\n",
    "    model.train() # Set the nn.Module to train mode. \n",
    "    total_loss = 0\n",
    "    correct = 0\n",
    "    num_samples = len(train_loader.dataset)\n",
    "    for batch_idx, (data, target) in enumerate(train_loader):\n",
    "        optimizer.zero_grad()\n",
    "        output = model(data)\n",
    "        loss = F.cross_entropy(output, target)\n",
    "        loss.backward()\n",
    "        optimizer.step()\n",
    "        pred = output.max(1, keepdim=True)[1] # get the index of the max log-probability\n",
    "        correct += pred.eq(target.view_as(pred)).sum().item()\n",
    "        total_loss += loss.detach() # Don't keep computation graph \n",
    "\n",
    "    print('Train Epoch: {} \\tLoss: {:.4f}, Accuracy: {}/{} ({:.0f}%)'.format(\n",
    "            epoch, total_loss / num_samples, \n",
    "            correct, \n",
    "            num_samples,\n",
    "            100. * correct / num_samples))\n"
   ]
  },
  {
   "cell_type": "code",
   "execution_count": 23,
   "metadata": {},
   "outputs": [],
   "source": [
    "def eval_epoch(model, test_loader, name):\n",
    "    model.eval()\n",
    "    test_loss = 0\n",
    "    correct = 0\n",
    "    for data, target in test_loader:\n",
    "        output = model(data)\n",
    "        test_loss += F.cross_entropy(output, target).item() # sum up batch loss\n",
    "        pred = output.max(1, keepdim=True)[1] # get the index of the max log-probability\n",
    "        correct += pred.eq(target.view_as(pred)).sum().item()\n",
    "\n",
    "    test_loss /= len(test_loader.dataset)\n",
    "    print('\\n{} set: Average loss: {:.4f}, Accuracy: {}/{} ({:.0f}%)\\n'.format(\n",
    "        name,\n",
    "        test_loss, \n",
    "        correct, \n",
    "        len(test_loader.dataset),\n",
    "        100. * correct / len(test_loader.dataset)))\n"
   ]
  },
  {
   "cell_type": "markdown",
   "metadata": {},
   "source": [
    "## Step 4: Training the model"
   ]
  },
  {
   "cell_type": "code",
   "execution_count": 24,
   "metadata": {},
   "outputs": [
    {
     "name": "stdout",
     "output_type": "stream",
     "text": [
      "Train Epoch: 1 \tLoss: 0.0285, Accuracy: 12892/40000 (32%)\n",
      "\n",
      "Dev set: Average loss: 0.0234, Accuracy: 4615/10000 (46%)\n",
      "\n",
      "---\n",
      "Train Epoch: 2 \tLoss: 0.0215, Accuracy: 20146/40000 (50%)\n",
      "\n",
      "Dev set: Average loss: 0.0207, Accuracy: 5293/10000 (53%)\n",
      "\n",
      "---\n",
      "Train Epoch: 3 \tLoss: 0.0188, Accuracy: 22882/40000 (57%)\n",
      "\n",
      "Dev set: Average loss: 0.0190, Accuracy: 5672/10000 (57%)\n",
      "\n",
      "---\n",
      "Train Epoch: 4 \tLoss: 0.0168, Accuracy: 24640/40000 (62%)\n",
      "\n",
      "Dev set: Average loss: 0.0177, Accuracy: 6123/10000 (61%)\n",
      "\n",
      "---\n",
      "Train Epoch: 5 \tLoss: 0.0154, Accuracy: 26020/40000 (65%)\n",
      "\n",
      "Dev set: Average loss: 0.0167, Accuracy: 6381/10000 (64%)\n",
      "\n",
      "---\n",
      "Train Epoch: 6 \tLoss: 0.0141, Accuracy: 27226/40000 (68%)\n",
      "\n",
      "Dev set: Average loss: 0.0162, Accuracy: 6419/10000 (64%)\n",
      "\n",
      "---\n",
      "Train Epoch: 7 \tLoss: 0.0131, Accuracy: 27962/40000 (70%)\n",
      "\n",
      "Dev set: Average loss: 0.0159, Accuracy: 6594/10000 (66%)\n",
      "\n",
      "---\n",
      "Train Epoch: 8 \tLoss: 0.0122, Accuracy: 28919/40000 (72%)\n",
      "\n",
      "Dev set: Average loss: 0.0164, Accuracy: 6511/10000 (65%)\n",
      "\n",
      "---\n",
      "Train Epoch: 9 \tLoss: 0.0111, Accuracy: 29993/40000 (75%)\n",
      "\n",
      "Dev set: Average loss: 0.0166, Accuracy: 6507/10000 (65%)\n",
      "\n",
      "---\n",
      "Train Epoch: 10 \tLoss: 0.0102, Accuracy: 30729/40000 (77%)\n",
      "\n",
      "Dev set: Average loss: 0.0171, Accuracy: 6487/10000 (65%)\n",
      "\n",
      "---\n"
     ]
    }
   ],
   "source": [
    "\n",
    "for epoch in range(1, epochs + 1):\n",
    "    train_epoch(model, train_loader, optimizer, epoch)\n",
    "    eval_epoch(model,  dev_loader, \"Dev\")\n",
    "    print(\"---\")"
   ]
  },
  {
   "cell_type": "code",
   "execution_count": null,
   "metadata": {},
   "outputs": [],
   "source": []
  }
 ],
 "metadata": {
  "kernelspec": {
   "display_name": "Python 3",
   "language": "python",
   "name": "python3"
  },
  "language_info": {
   "codemirror_mode": {
    "name": "ipython",
    "version": 3
   },
   "file_extension": ".py",
   "mimetype": "text/x-python",
   "name": "python",
   "nbconvert_exporter": "python",
   "pygments_lexer": "ipython3",
   "version": "3.6.0"
  }
 },
 "nbformat": 4,
 "nbformat_minor": 2
}
